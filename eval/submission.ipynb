{
 "cells": [
  {
   "cell_type": "code",
   "execution_count": 1,
   "metadata": {},
   "outputs": [],
   "source": [
    "import pandas as pd\n",
    "import matplotlib.pyplot as plt\n",
    "import auto_vec_filter_helper.auto_vec_filter_data as avf_data\n",
    "import seaborn as sns\n",
    "import math\n",
    "\n",
    "def subset_data_size(df, size_column):\n",
    "    return df[df[size_column].isin([4*1024*1024, 128*1024*1024, 1*1024*1024*1024])]"
   ]
  },
  {
   "attachments": {},
   "cell_type": "markdown",
   "metadata": {},
   "source": [
    "# Aggregate"
   ]
  },
  {
   "attachments": {},
   "cell_type": "markdown",
   "metadata": {},
   "source": [
    "## Scalar"
   ]
  },
  {
   "cell_type": "code",
   "execution_count": 2,
   "metadata": {},
   "outputs": [],
   "source": [
    "df = pd.read_csv(\"aggregate/old/results.tsv\", sep='\\t')\n",
    "df_mean = df.groupby([\"device\",\"arch-flags\",\"function\",\"variant\",\"SIMD-elementCount\", \"byte_size\",\"element_size\"])[\"time_ns\"].mean().reset_index()\n",
    "df_mean[\"tput GiB/s\"] = (df_mean[\"byte_size\"]/1024/1024/1024)/(df_mean[\"time_ns\"]*1e-9)\n",
    "df_mean[\"beauty_bytes\"] = df_mean[\"byte_size\"].apply(lambda x: avf_data.beautify_data_size(x))\n",
    "df_mean[\"beauty_bytes_no_ending\"] = df_mean[\"byte_size\"].apply(lambda x: avf_data.beautify_data_size(x, False))\n",
    "df_mean = df_mean[ (df_mean[\"arch-flags\"] == \"FPGA\") ]\n",
    "df_mean[\"color_id\"]=df_mean[\"SIMD-elementCount\"].apply(lambda x: int(math.log2(x)))\n",
    "df_mean[\"SIMD-elementCount\"]=df_mean[\"SIMD-elementCount\"].apply(lambda x: int(x))\n",
    "sns.set(style=\"whitegrid\", rc={'grid.linestyle': '--'})\n",
    "g = sns.barplot(data=df_mean[ df_mean[\"element_size\"] == 8 ],  x=\"beauty_bytes_no_ending\", y=\"tput GiB/s\", hue=\"SIMD-elementCount\", palette=sns.color_palette(\"muted\"))\n",
    "#rotate x labels by 30 degrees\n",
    "for item in g.get_xticklabels():\n",
    "    item.set_rotation(30)\n",
    "g.set_ylim(0,3)\n",
    "plt.xticks(fontsize=18)\n",
    "plt.yticks(fontsize=18)\n",
    "plt.xlabel(\"Processed Data Size [MiB]\", fontsize=22)\n",
    "plt.ylabel(\"Throughput [GiB/s]\", fontsize=22)\n",
    "plt.legend().remove()\n",
    "plt.tight_layout()\n",
    "plt.savefig(\"submission/aggregate_throughput.pdf\")\n",
    "plt.close()"
   ]
  },
  {
   "attachments": {},
   "cell_type": "markdown",
   "metadata": {},
   "source": [
    "## Autovec"
   ]
  },
  {
   "cell_type": "code",
   "execution_count": 3,
   "metadata": {},
   "outputs": [],
   "source": [
    "df = pd.read_csv(\"aggregate/aggregate_results.tsv\", sep='\\t')\n",
    "df = subset_data_size(df, \"byte_size\")\n",
    "df_mean = df.groupby([\"device\",\"compiler\",\"version\",\"arch-flags\",\"function\",\"variant\",\"SIMD-elementCount\",\"byte_size\",\"element_size\",\"element_count\"])[\"time_ns\"].mean().reset_index()\n",
    "df_mean[\"tput GiB/s\"] = (df_mean[\"byte_size\"]/1024/1024/1024)/(df_mean[\"time_ns\"]*1e-9)\n",
    "df_mean[\"beauty_bytes\"] = df_mean[\"byte_size\"].apply(lambda x: avf_data.beautify_data_size(x))\n",
    "df_mean[\"beauty_bytes_no_ending\"] = df_mean[\"byte_size\"].apply(lambda x: avf_data.beautify_data_size(x, False))\n",
    "df_mean = df_mean[ (df_mean[\"arch-flags\"] == \"FPGA\") ]\n",
    "df_mean[\"color_id\"]=df_mean[\"SIMD-elementCount\"].apply(lambda x: int(math.log2(x)))\n",
    "df_mean[\"SIMD-elementCount\"]=df_mean[\"SIMD-elementCount\"].apply(lambda x: int(x))\n",
    "sns.set(style=\"whitegrid\", rc={'grid.linestyle': '--'})\n",
    "cm = sns.color_palette('coolwarm', as_cmap=True)\n",
    "g = sns.barplot(data=df_mean,  x=\"beauty_bytes_no_ending\", y=\"tput GiB/s\", hue=\"SIMD-elementCount\", palette=sns.color_palette(\"muted\"),)\n",
    "g.legend(title=\"Vector Length\", loc='upper center', bbox_to_anchor=(0.5, -0.3), ncol=8)\n",
    "plt.setp(g.get_legend().get_texts(), fontsize='18') \n",
    "plt.setp(g.get_legend().get_title(), fontsize='20')\n",
    "plt.xticks(fontsize=18)\n",
    "plt.yticks(fontsize=18)\n",
    "plt.xlabel(\"Processed Data Size [MiB]\", fontsize=22)\n",
    "plt.ylabel(\"Throughput [GiB/s]\", fontsize=22)\n",
    "plt.tight_layout()\n",
    "plt.savefig(\"submission/aggregate_autovec_all_throughput.pdf\", bbox_inches='tight', pad_inches = 0)\n",
    "plt.savefig(\"submission/aggregate_autovec_all_throughput.png\", bbox_inches='tight', pad_inches = 0)\n",
    "plt.close()\n",
    "sns.set(style=\"whitegrid\", rc={'grid.linestyle': '--'})\n",
    "cm = sns.color_palette('coolwarm', as_cmap=True)\n",
    "g = sns.barplot(data=df_mean[df_mean[\"SIMD-elementCount\"]<16],  x=\"beauty_bytes_no_ending\", y=\"tput GiB/s\", hue=\"SIMD-elementCount\", palette=sns.color_palette(\"muted\"))\n",
    "g.legend(title=\"Vector Length\", loc='upper center', bbox_to_anchor=(0.5, -0.3), ncol=8)\n",
    "plt.setp(g.get_legend().get_texts(), fontsize='18') \n",
    "plt.setp(g.get_legend().get_title(), fontsize='20')\n",
    "plt.xticks(fontsize=18)\n",
    "plt.yticks(fontsize=18)\n",
    "plt.xlabel(\"Processed Data Size [MiB]\", fontsize=22)\n",
    "plt.ylabel(\"Throughput [GiB/s]\", fontsize=22)\n",
    "plt.tight_layout()\n",
    "plt.savefig(\"submission/aggregate_autovec_128_to_256_throughput.pdf\", bbox_inches='tight', pad_inches = 0)\n",
    "plt.savefig(\"submission/aggregate_autovec_128_to_256_throughput.png\", bbox_inches='tight', pad_inches = 0)\n",
    "plt.close()"
   ]
  },
  {
   "attachments": {},
   "cell_type": "markdown",
   "metadata": {},
   "source": [
    "# Modulo"
   ]
  },
  {
   "cell_type": "code",
   "execution_count": 7,
   "metadata": {},
   "outputs": [],
   "source": [
    "df = pd.read_csv(\"modulo_results/benchmark_results_modulo.tsv\", sep='\\t')\n",
    "#df = subset_data_size(df, \"datasize\")\n",
    "df = df[(df[\"flavor\"] == \"percent operator\") ]\n",
    "df[\"beauty_bytes\"] = df[\"datasize\"].apply(lambda x: avf_data.beautify_data_size(x))\n",
    "df[\"beauty_bytes_no_ending\"] = df[\"datasize\"].apply(lambda x: avf_data.beautify_data_size(x, False))\n",
    "sns.set(style=\"whitegrid\", rc={'grid.linestyle': '--'})\n",
    "cm = sns.color_palette('coolwarm', as_cmap=True)\n",
    "g = sns.barplot(data=df,  x=\"beauty_bytes_no_ending\", y=\"throughput [GiB/s]\", hue=[1]*len(df), palette=sns.color_palette(\"muted\"))\n",
    "#rotate x labels by 30 degrees\n",
    "for item in g.get_xticklabels():\n",
    "    item.set_rotation(30)\n",
    "plt.xticks(fontsize=18)\n",
    "plt.yticks(fontsize=18)\n",
    "plt.xlabel(\"Processed Data Size [MiB]\", fontsize=22)\n",
    "plt.ylabel(\"Throughput [GiB/s]\", fontsize=22)\n",
    "plt.legend().remove()\n",
    "plt.tight_layout()\n",
    "plt.savefig(\"submission/modulo_aggregate.pdf\")\n",
    "plt.close()"
   ]
  },
  {
   "attachments": {},
   "cell_type": "markdown",
   "metadata": {},
   "source": [
    "# Conflict Detection"
   ]
  },
  {
   "cell_type": "code",
   "execution_count": 8,
   "metadata": {},
   "outputs": [],
   "source": [
    "df = pd.read_csv(\"conflict/benchmark_results_conflict_aggregate.tsv\", sep='\\t')\n",
    "#df = subset_data_size(df, \"datasize\")\n",
    "df[\"tput GiB/s\"] = (df[\"datasize\"]/(1024*1024*1024)) / (df[\"execution_times\"] / 1000000)\n",
    "df[\"beauty_bytes\"] = df[\"datasize\"].apply(lambda x: avf_data.beautify_data_size(x))\n",
    "df[\"beauty_bytes_no_ending\"] = df[\"datasize\"].apply(lambda x: avf_data.beautify_data_size(x, False))\n",
    "sns.set(style=\"whitegrid\", rc={'grid.linestyle': '--'})\n",
    "cm = sns.color_palette('coolwarm', as_cmap=True)\n",
    "g = sns.barplot(data=df,  x=\"beauty_bytes_no_ending\", y=\"tput GiB/s\", hue=[1]*len(df), palette=sns.color_palette(\"muted\"))\n",
    "#rotate x labels by 30 degrees\n",
    "for item in g.get_xticklabels():\n",
    "    item.set_rotation(30)\n",
    "plt.xticks(fontsize=18)\n",
    "plt.yticks(fontsize=18)\n",
    "plt.xlabel(\"Processed Data Size [MiB]\", fontsize=22)\n",
    "plt.ylabel(\"Throughput [GiB/s]\", fontsize=22)\n",
    "plt.legend().remove()\n",
    "plt.tight_layout()\n",
    "plt.savefig(\"submission/cd_aggregate.pdf\")\n",
    "plt.close()\n"
   ]
  },
  {
   "attachments": {},
   "cell_type": "markdown",
   "metadata": {},
   "source": [
    "# Count Leading Zeroes"
   ]
  },
  {
   "cell_type": "code",
   "execution_count": 9,
   "metadata": {},
   "outputs": [],
   "source": [
    "df = pd.read_csv(\"clz_results/benchmark_results_clz_aggregate.tsv\", sep='\\t')\n",
    "#df = subset_data_size(df, \"datasize\")\n",
    "df = df[df[\"flavor\"]==\"loop-based\"]\n",
    "df[\"beauty_bytes\"] = df[\"datasize\"].apply(lambda x: avf_data.beautify_data_size(x))\n",
    "df[\"beauty_bytes_no_ending\"] = df[\"datasize\"].apply(lambda x: avf_data.beautify_data_size(x, False))\n",
    "sns.set(style=\"whitegrid\", rc={'grid.linestyle': '--'})\n",
    "cm = sns.color_palette('coolwarm', as_cmap=True)\n",
    "g = sns.barplot(data=df,  x=\"beauty_bytes_no_ending\", y=\"throughput [GiB/s]\", hue=[1]*len(df), palette=sns.color_palette(\"muted\"))\n",
    "#rotate x labels by 30 degrees\n",
    "for item in g.get_xticklabels():\n",
    "    item.set_rotation(30)\n",
    "plt.xticks(fontsize=18)\n",
    "plt.yticks(fontsize=18)\n",
    "plt.xlabel(\"Processed Data Size [MiB]\", fontsize=22)\n",
    "plt.ylabel(\"Throughput [GiB/s]\", fontsize=22)\n",
    "plt.legend().remove()\n",
    "plt.tight_layout()\n",
    "plt.savefig(\"submission/clz_aggregate.pdf\")\n",
    "plt.close()"
   ]
  },
  {
   "cell_type": "code",
   "execution_count": null,
   "metadata": {},
   "outputs": [],
   "source": []
  },
  {
   "cell_type": "code",
   "execution_count": null,
   "metadata": {},
   "outputs": [],
   "source": []
  }
 ],
 "metadata": {
  "kernelspec": {
   "display_name": "Python 3",
   "language": "python",
   "name": "python3"
  },
  "language_info": {
   "codemirror_mode": {
    "name": "ipython",
    "version": 3
   },
   "file_extension": ".py",
   "mimetype": "text/x-python",
   "name": "python",
   "nbconvert_exporter": "python",
   "pygments_lexer": "ipython3",
   "version": "3.11.3"
  },
  "orig_nbformat": 4
 },
 "nbformat": 4,
 "nbformat_minor": 2
}
