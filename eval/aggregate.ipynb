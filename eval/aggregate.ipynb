{
 "cells": [
  {
   "cell_type": "code",
   "execution_count": null,
   "metadata": {},
   "outputs": [],
   "source": [
    "import pandas as pd\n",
    "import matplotlib.pyplot as plt\n",
    "import auto_vec_filter_helper.auto_vec_filter_data as avf_data\n",
    "import seaborn as sns\n",
    "from matplotlib.colors import ListedColormap\n",
    "import math\n"
   ]
  },
  {
   "cell_type": "code",
   "execution_count": null,
   "metadata": {},
   "outputs": [],
   "source": [
    "df = pd.read_csv(\"aggregate/results.tsv\", sep='\\t')\n",
    "df_mean = df.groupby([\"device\",\"arch-flags\",\"function\",\"variant\",\"SIMD-elementCount\", \"byte_size\",\"element_size\"])[\"time_ns\"].mean().reset_index()\n",
    "df_mean[\"tput GiB/s\"] = (df_mean[\"byte_size\"]/1024/1024/1024)/(df_mean[\"time_ns\"]*1e-9)\n",
    "df_mean[\"beauty_bytes\"] = df_mean[\"byte_size\"].apply(lambda x: avf_data.beautify_data_size(x))\n",
    "df_mean[\"beauty_bytes_no_ending\"] = df_mean[\"byte_size\"].apply(lambda x: avf_data.beautify_data_size(x, False))\n",
    "df_mean = df_mean[ (df_mean[\"arch-flags\"] == \"FPGA\") ]\n",
    "max_val = df_mean[\"tput GiB/s\"].max()\n",
    "print( max_val )\n",
    "for es in [4,8]:\n",
    "    df_mean[ df_mean[\"element_size\"] == es ].plot(kind=\"bar\", x=\"beauty_bytes\", y=\"tput GiB/s\", xlabel=\"Byte Size\", ylabel=\"Throughput [GiB/s]\",legend=False, title=f\"Element Size in Bytes: {es}\", ylim=(0,max_val))\n"
   ]
  },
  {
   "cell_type": "code",
   "execution_count": null,
   "metadata": {},
   "outputs": [],
   "source": [
    "df_mean[ df_mean[\"element_size\"] == 8 ].plot(kind=\"bar\", x=\"beauty_bytes_no_ending\", y=\"tput GiB/s\", xlabel=\"Processed Data Size\", ylabel=\"Throughput [GiB/s]\",legend=False, ylim=(0,3))"
   ]
  },
  {
   "cell_type": "code",
   "execution_count": null,
   "metadata": {},
   "outputs": [],
   "source": [
    "\n",
    "sns.set(style=\"whitegrid\", rc={'grid.linestyle': '--'})\n",
    "g = sns.barplot(data=df_mean[ df_mean[\"element_size\"] == 8 ],  x=\"beauty_bytes_no_ending\", y=\"tput GiB/s\", hue=\"SIMD-elementCount\", palette=sns.color_palette(\"muted\"))\n",
    "#g.set(xlabel=\"Processed Data Size [MiB]\", ylabel=\"Throughput [GiB/s]\")\n",
    "g.set_ylim(0,3)\n",
    "plt.xticks(fontsize=18)\n",
    "plt.yticks(fontsize=18)\n",
    "plt.xlabel(\"Processed Data Size [MiB]\", fontsize=22)\n",
    "plt.ylabel(\"Throughput [GiB/s]\", fontsize=22)\n",
    "plt.legend().remove()\n",
    "plt.tight_layout()\n",
    "plt.savefig(\"aggregate/aggregate_throughput.pdf\")\n",
    "\n"
   ]
  },
  {
   "cell_type": "code",
   "execution_count": null,
   "metadata": {},
   "outputs": [],
   "source": [
    "df = pd.read_csv(\"aggregate/aggregate_autovec_results.tsv\", sep='\\t')\n",
    "df_mean = df.groupby([\"device\",\"compiler\",\"version\",\"arch-flags\",\"function\",\"variant\",\"SIMD-elementCount\",\"byte_size\",\"element_size\",\"element_count\"])[\"time_ns\"].mean().reset_index()\n",
    "df_mean[\"tput GiB/s\"] = (df_mean[\"byte_size\"]/1024/1024/1024)/(df_mean[\"time_ns\"]*1e-9)\n",
    "df_mean[\"beauty_bytes\"] = df_mean[\"byte_size\"].apply(lambda x: avf_data.beautify_data_size(x))\n",
    "df_mean[\"beauty_bytes_no_ending\"] = df_mean[\"byte_size\"].apply(lambda x: avf_data.beautify_data_size(x, False))\n",
    "df_mean = df_mean[ (df_mean[\"arch-flags\"] == \"FPGA\") ]\n",
    "df_mean[\"color_id\"]=df_mean[\"SIMD-elementCount\"].apply(lambda x: int(math.log2(x)))\n",
    "df_mean[\"SIMD-elementCount\"]=df_mean[\"SIMD-elementCount\"].apply(lambda x: int(x))"
   ]
  },
  {
   "cell_type": "code",
   "execution_count": null,
   "metadata": {},
   "outputs": [],
   "source": [
    "sns.set(style=\"whitegrid\", rc={'grid.linestyle': '--'})\n",
    "cm = sns.color_palette('coolwarm', as_cmap=True)\n",
    "g = sns.barplot(data=df_mean,  x=\"beauty_bytes_no_ending\", y=\"tput GiB/s\", hue=\"SIMD-elementCount\", palette=sns.color_palette(\"muted\"))\n",
    "#set legend below the plot\n",
    "g.legend(title=\"VL\", loc='upper center', bbox_to_anchor=(0.5, -0.3), ncol=4)\n",
    "#add shadow to the legend\n",
    "plt.setp(g.get_legend().get_texts(), fontsize='18') \n",
    "plt.setp(g.get_legend().get_title(), fontsize='20')\n",
    "plt.xticks(fontsize=18)\n",
    "plt.yticks(fontsize=18)\n",
    "plt.xlabel(\"Processed Data Size [MiB]\", fontsize=22)\n",
    "plt.ylabel(\"Throughput [GiB/s]\", fontsize=22)\n",
    "plt.tight_layout()\n",
    "plt.savefig(\"aggregate/aggregate_autovec_all_throughput.pdf\")"
   ]
  },
  {
   "cell_type": "code",
   "execution_count": null,
   "metadata": {},
   "outputs": [],
   "source": [
    "sns.set(style=\"whitegrid\", rc={'grid.linestyle': '--'})\n",
    "cm = sns.color_palette('coolwarm', as_cmap=True)\n",
    "g = sns.barplot(data=df_mean[df_mean[\"SIMD-elementCount\"]<16],  x=\"beauty_bytes_no_ending\", y=\"tput GiB/s\", hue=\"SIMD-elementCount\", palette=sns.color_palette(\"muted\"))\n",
    "g.legend(title=\"VL\", loc='upper center', bbox_to_anchor=(0.5, -0.3), ncol=4)\n",
    "\n",
    "plt.setp(g.get_legend().get_texts(), fontsize='18') \n",
    "plt.setp(g.get_legend().get_title(), fontsize='20')\n",
    "plt.xticks(fontsize=18)\n",
    "plt.yticks(fontsize=18)\n",
    "plt.xlabel(\"Processed Data Size [MiB]\", fontsize=22)\n",
    "plt.ylabel(\"Throughput [GiB/s]\", fontsize=22)\n",
    "plt.tight_layout()\n",
    "plt.savefig(\"aggregate/aggregate_autovec_128_to_256_throughput.pdf\")"
   ]
  },
  {
   "cell_type": "code",
   "execution_count": null,
   "metadata": {},
   "outputs": [],
   "source": []
  },
  {
   "cell_type": "code",
   "execution_count": null,
   "metadata": {},
   "outputs": [],
   "source": []
  }
 ],
 "metadata": {
  "kernelspec": {
   "display_name": "Python 3",
   "language": "python",
   "name": "python3"
  },
  "language_info": {
   "codemirror_mode": {
    "name": "ipython",
    "version": 3
   },
   "file_extension": ".py",
   "mimetype": "text/x-python",
   "name": "python",
   "nbconvert_exporter": "python",
   "pygments_lexer": "ipython3",
   "version": "3.11.3"
  },
  "orig_nbformat": 4
 },
 "nbformat": 4,
 "nbformat_minor": 2
}
