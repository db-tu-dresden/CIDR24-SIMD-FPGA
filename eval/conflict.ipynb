{
 "cells": [
  {
   "cell_type": "code",
   "execution_count": 1,
   "metadata": {},
   "outputs": [],
   "source": [
    "import pandas as pd\n"
   ]
  },
  {
   "cell_type": "code",
   "execution_count": 4,
   "metadata": {},
   "outputs": [
    {
     "data": {
      "text/plain": [
       "Index(['device', 'compiler', 'version', 'arch-flags', 'rep', 'target',\n",
       "       'operation', 'variant', 'type', 'vectorsize', 'datasize',\n",
       "       'offloading_and_execution_time', 'execution_time [ns]',\n",
       "       'throughput [MiB/s]', 'data@10', 'results@10', 'flush_data@10',\n",
       "       'flush_results@10'],\n",
       "      dtype='object')"
      ]
     },
     "execution_count": 4,
     "metadata": {},
     "output_type": "execute_result"
    }
   ],
   "source": [
    "df = pd.read_csv('conflict/results.tsv', sep='\\t')\n",
    "# show columns of df\n",
    "df.columns"
   ]
  },
  {
   "cell_type": "code",
   "execution_count": 5,
   "metadata": {},
   "outputs": [
    {
     "name": "stderr",
     "output_type": "stream",
     "text": [
      "/tmp/ipykernel_15440/3100047137.py:1: FutureWarning: The default value of numeric_only in DataFrameGroupBy.mean is deprecated. In a future version, numeric_only will default to False. Either specify numeric_only or select only columns which should be valid for the function.\n",
      "  mean_df = df.groupby(['device', 'compiler', 'version', 'arch-flags', 'target', 'operation', 'variant', 'type', 'vectorsize', 'datasize']).mean()[\"execution_time [ns]\"].reset_index()\n"
     ]
    }
   ],
   "source": [
    "mean_df = df.groupby(['device', 'compiler', 'version', 'arch-flags', 'target', 'operation', 'variant', 'type', 'vectorsize', 'datasize']).mean()[\"execution_time [ns]\"].reset_index()\n",
    "  # Calculate the throughput in GiB/s\n",
    "mean_df[\"throughput (GiB/s)\"] = (mean_df[\"datasize\"] /(1024*1024*1024)) / (mean_df[\"execution_time [ns]\"]/1e9)"
   ]
  },
  {
   "cell_type": "code",
   "execution_count": null,
   "metadata": {},
   "outputs": [],
   "source": []
  }
 ],
 "metadata": {
  "kernelspec": {
   "display_name": "Python 3",
   "language": "python",
   "name": "python3"
  },
  "language_info": {
   "codemirror_mode": {
    "name": "ipython",
    "version": 3
   },
   "file_extension": ".py",
   "mimetype": "text/x-python",
   "name": "python",
   "nbconvert_exporter": "python",
   "pygments_lexer": "ipython3",
   "version": "3.11.3"
  },
  "orig_nbformat": 4
 },
 "nbformat": 4,
 "nbformat_minor": 2
}
